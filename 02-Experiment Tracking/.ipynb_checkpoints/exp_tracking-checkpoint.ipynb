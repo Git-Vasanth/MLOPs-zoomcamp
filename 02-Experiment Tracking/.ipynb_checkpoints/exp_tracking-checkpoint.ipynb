{
 "cells": [
  {
   "cell_type": "markdown",
   "id": "abb82d05-64e3-4872-aa2e-280287201a78",
   "metadata": {},
   "source": [
    "# 02.1 - Experiment Tracking "
   ]
  },
  {
   "cell_type": "markdown",
   "id": "667bc21f-7752-4dfb-8fb0-e75039a01ad0",
   "metadata": {},
   "source": [
    "**Experiment Tracking**\n",
    "\n",
    "* Process of tracking relevant info from an ML Experiment , which includes -- Src code , env , Data , Model , hyprerparameter , Metrics etc"
   ]
  },
  {
   "cell_type": "markdown",
   "id": "145e43d6-31b3-4a31-b018-cd109f738c8c",
   "metadata": {},
   "source": [
    "**Why Experimetn Tracking important**\n",
    "* 1. Reproducibility\n",
    "* 2. Organization\n",
    "* 3. Optimization "
   ]
  },
  {
   "cell_type": "markdown",
   "id": "6ab76fe0-cadc-4656-87ab-be2e3f8ea498",
   "metadata": {},
   "source": [
    "**Tracking Experiments in Spreadsheets**\n",
    "\n",
    "**Why is not enough**\n",
    "\n",
    "* 1. Error Prone\n",
    "* 2. No Standard Format\n",
    "* 3. Visibility & Collaboration\n",
    " \n",
    "* Spreadsheet are easy to share"
   ]
  },
  {
   "cell_type": "markdown",
   "id": "97472f2c-422a-49e7-b321-3d6f7e04caf2",
   "metadata": {},
   "source": [
    "## MLFLOW - ML LifeCycle\n",
    "\n",
    "**MOdules**\n",
    "\n",
    "* Tracking\n",
    "* Models\n",
    "* Model registry\n",
    "* Projects"
   ]
  },
  {
   "cell_type": "markdown",
   "id": "8e4b4634-93cc-4fee-9f63-8b427108e9af",
   "metadata": {},
   "source": [
    "**ML Flow tracking module allows yoou to organize your experiments into runs and keep track of :**\n",
    "\n",
    "    * Parameters\n",
    "    * metrics  -f1 , accuracy etc\n",
    "    * Metadata\n",
    "    * Artifacts\n",
    "    * Models\n",
    "\n",
    "**ML Flow automatically Logs extra info about run :**\n",
    "\n",
    "    * Src Code\n",
    "    * Version of code - Git Commit\n",
    "    * start and End time\n",
    "    * Author"
   ]
  },
  {
   "cell_type": "markdown",
   "id": "eef0eff8-ee11-439a-860a-10cb73ea9351",
   "metadata": {},
   "source": [
    "# 02.2 - Getting Statrted with MLFlow"
   ]
  },
  {
   "cell_type": "markdown",
   "id": "cef37299-450c-4e78-8503-3fd6a4f8e076",
   "metadata": {},
   "source": [
    "gitbash cmd line mlflowui --backend-store-uri sqlite:///mlflow.db"
   ]
  },
  {
   "cell_type": "markdown",
   "id": "0037b3a1-b1b0-4789-9d96-573cdc627369",
   "metadata": {},
   "source": [
    "i suggest you to look for code - ex_Tracking_code file"
   ]
  },
  {
   "cell_type": "markdown",
   "id": "07853211-fb6b-45f6-8c78-90bd74319875",
   "metadata": {},
   "source": [
    "## Experiment Tracking woth MLFow"
   ]
  },
  {
   "cell_type": "markdown",
   "id": "53a08bd5-9ffa-45db-8021-c22f4b525fb2",
   "metadata": {},
   "source": [
    "* Add Parameter Tunig to Notebook\n",
    "* See how it looks in Mlflow\n",
    "* select best one\n",
    "* suto log\n",
    "\n",
    "**Format: Code-along**\n"
   ]
  },
  {
   "cell_type": "code",
   "execution_count": null,
   "id": "5ceef2fa-a984-4899-b7f1-f7c23c1a9b73",
   "metadata": {},
   "outputs": [],
   "source": []
  }
 ],
 "metadata": {
  "kernelspec": {
   "display_name": "Python 3 (ipykernel)",
   "language": "python",
   "name": "python3"
  },
  "language_info": {
   "codemirror_mode": {
    "name": "ipython",
    "version": 3
   },
   "file_extension": ".py",
   "mimetype": "text/x-python",
   "name": "python",
   "nbconvert_exporter": "python",
   "pygments_lexer": "ipython3",
   "version": "3.10.13"
  }
 },
 "nbformat": 4,
 "nbformat_minor": 5
}
